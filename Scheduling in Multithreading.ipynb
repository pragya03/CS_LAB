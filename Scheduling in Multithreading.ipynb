{
 "cells": [
  {
   "cell_type": "code",
   "execution_count": 1,
   "metadata": {},
   "outputs": [
    {
     "name": "stdout",
     "output_type": "stream",
     "text": [
      "FCFS Scheduling:\n",
      "Thread-1 starts execution.\n",
      "Thread-2 starts execution.\n",
      "Thread-3 starts execution.\n",
      "Thread-3 completes execution.\n",
      "Thread-1 completes execution.\n",
      "Thread-2 completes execution.\n",
      "Execution Time: 3.03 seconds\n",
      "\n",
      "Priority-Based Scheduling:\n",
      "Thread-2 starts execution.\n",
      "Thread-2 completes execution.\n",
      "Thread-3 starts execution.\n",
      "Thread-3 completes execution.\n",
      "Thread-1 starts execution.\n",
      "Thread-1 completes execution.\n",
      "Execution Time: 6.07 seconds\n",
      "\n"
     ]
    }
   ],
   "source": [
    "import threading\n",
    "import time\n",
    "from queue import PriorityQueue\n",
    "\n",
    "# Thread task simulation\n",
    "def thread_task(thread_id, execution_time):\n",
    "    print(f\"Thread-{thread_id} starts execution.\",flush=True)\n",
    "    time.sleep(execution_time)\n",
    "    print(f\"Thread-{thread_id} completes execution.\",flush=True)\n",
    "\n",
    "# FCFS Scheduling\n",
    "def fcfs_scheduling(threads):\n",
    "    start_time = time.time()\n",
    "    for thread in threads:\n",
    "        thread.start()\n",
    "    for thread in threads:\n",
    "        thread.join()\n",
    "    end_time = time.time()\n",
    "    return end_time - start_time\n",
    "\n",
    "# Priority-Based Scheduling\n",
    "def priority_scheduling(tasks):\n",
    "    pq = PriorityQueue()\n",
    "    for priority, thread in tasks:\n",
    "        pq.put((priority, thread))\n",
    "\n",
    "    start_time = time.time()\n",
    "    while not pq.empty():\n",
    "        _, thread = pq.get()\n",
    "        thread.start()\n",
    "        thread.join()\n",
    "    end_time = time.time()\n",
    "    return end_time - start_time\n",
    "\n",
    "if __name__ == \"__main__\":\n",
    "    thread_details = [(1, 2), (2, 3), (3, 1)]  # (Thread ID, Execution Time)\n",
    "    threads = [threading.Thread(target=thread_task, args=(tid, exec_time)) for tid, exec_time in thread_details]\n",
    "    \n",
    "    print(\"FCFS Scheduling:\")\n",
    "    fcfs_time = fcfs_scheduling(threads)\n",
    "    print(f\"Execution Time: {fcfs_time:.2f} seconds\\n\")\n",
    "\n",
    "    print(\"Priority-Based Scheduling:\")\n",
    "    threads = [threading.Thread(target=thread_task, args=(tid, exec_time)) for tid, exec_time in thread_details]\n",
    "    priorities = [(tid, thread) for tid, thread in zip([3, 1, 2], threads)]  # Priority: Lower number = Higher priority\n",
    "    priority_time = priority_scheduling(priorities)\n",
    "    print(f\"Execution Time: {priority_time:.2f} seconds\\n\")\n"
   ]
  },
  {
   "cell_type": "code",
   "execution_count": null,
   "metadata": {},
   "outputs": [],
   "source": []
  }
 ],
 "metadata": {
  "kernelspec": {
   "display_name": "Python 3",
   "language": "python",
   "name": "python3"
  },
  "language_info": {
   "codemirror_mode": {
    "name": "ipython",
    "version": 3
   },
   "file_extension": ".py",
   "mimetype": "text/x-python",
   "name": "python",
   "nbconvert_exporter": "python",
   "pygments_lexer": "ipython3",
   "version": "3.8.5"
  }
 },
 "nbformat": 4,
 "nbformat_minor": 4
}
