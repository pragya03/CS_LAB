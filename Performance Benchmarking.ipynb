{
 "cells": [
  {
   "cell_type": "markdown",
   "metadata": {},
   "source": [
    "### Memory Allocation Strategies"
   ]
  },
  {
   "cell_type": "code",
   "execution_count": 1,
   "metadata": {},
   "outputs": [
    {
     "name": "stdout",
     "output_type": "stream",
     "text": [
      "first_fit:\n",
      "  Execution Time: 0.000000 seconds\n",
      "  Allocation: [1, 4, 1, -1]\n",
      "best_fit:\n",
      "  Execution Time: 0.000000 seconds\n",
      "  Allocation: [3, 1, 2, 4]\n",
      "worst_fit:\n",
      "  Execution Time: 0.000000 seconds\n",
      "  Allocation: [4, 1, 4, -1]\n"
     ]
    }
   ],
   "source": [
    "import random\n",
    "import time\n",
    "\n",
    "# Simulate memory allocation\n",
    "def first_fit(memory_blocks, process_sizes):\n",
    "    allocation = [-1] * len(process_sizes)\n",
    "    for i, process in enumerate(process_sizes):\n",
    "        for j, block in enumerate(memory_blocks):\n",
    "            if block >= process:\n",
    "                allocation[i] = j\n",
    "                memory_blocks[j] -= process\n",
    "                break\n",
    "    return allocation\n",
    "\n",
    "def best_fit(memory_blocks, process_sizes):\n",
    "    allocation = [-1] * len(process_sizes)\n",
    "    for i, process in enumerate(process_sizes):\n",
    "        best_index = -1\n",
    "        for j, block in enumerate(memory_blocks):\n",
    "            if block >= process:\n",
    "                if best_index == -1 or memory_blocks[best_index] > block:\n",
    "                    best_index = j\n",
    "        if best_index != -1:\n",
    "            allocation[i] = best_index\n",
    "            memory_blocks[best_index] -= process\n",
    "    return allocation\n",
    "\n",
    "def worst_fit(memory_blocks, process_sizes):\n",
    "    allocation = [-1] * len(process_sizes)\n",
    "    for i, process in enumerate(process_sizes):\n",
    "        worst_index = -1\n",
    "        for j, block in enumerate(memory_blocks):\n",
    "            if block >= process:\n",
    "                if worst_index == -1 or memory_blocks[worst_index] < block:\n",
    "                    worst_index = j\n",
    "        if worst_index != -1:\n",
    "            allocation[i] = worst_index\n",
    "            memory_blocks[worst_index] -= process\n",
    "    return allocation\n",
    "\n",
    "# Benchmarking\n",
    "def benchmark_memory_allocation(strategy, memory_blocks, process_sizes):\n",
    "    start_time = time.time()\n",
    "    allocation = strategy(memory_blocks[:], process_sizes)\n",
    "    end_time = time.time()\n",
    "    return end_time - start_time, allocation\n",
    "\n",
    "memory_blocks = [100, 500, 200, 300, 600]\n",
    "process_sizes = [212, 417, 112, 426]\n",
    "\n",
    "strategies = [first_fit, best_fit, worst_fit]\n",
    "for strategy in strategies:\n",
    "    exec_time, allocation = benchmark_memory_allocation(strategy, memory_blocks[:], process_sizes)\n",
    "    print(f\"{strategy.__name__}:\")\n",
    "    print(f\"  Execution Time: {exec_time:.6f} seconds\")\n",
    "    print(f\"  Allocation: {allocation}\")\n"
   ]
  },
  {
   "cell_type": "markdown",
   "metadata": {},
   "source": [
    "### CPU Scheduling Algorithms"
   ]
  },
  {
   "cell_type": "code",
   "execution_count": 2,
   "metadata": {},
   "outputs": [
    {
     "name": "stdout",
     "output_type": "stream",
     "text": [
      "fcfs:\n",
      "  Execution Time: 0.000000 seconds\n",
      "  Turnaround Times: [10, 14, 21]\n",
      "sjn:\n",
      "  Execution Time: 0.000000 seconds\n",
      "  Turnaround Times: [5, 12, 24]\n",
      "round_robin:\n",
      "  Execution Time: 0.000000 seconds\n",
      "  Turnaround Times: [23, 15, 21]\n"
     ]
    }
   ],
   "source": [
    "import time\n",
    "\n",
    "# Scheduling Algorithms\n",
    "def fcfs(processes):\n",
    "    waiting_time = 0\n",
    "    turnaround_times = []\n",
    "    current_time = 0\n",
    "    for arrival, burst in processes:\n",
    "        current_time = max(current_time, arrival) + burst\n",
    "        turnaround_times.append(current_time - arrival)\n",
    "    return turnaround_times\n",
    "\n",
    "def sjn(processes):\n",
    "    processes = sorted(processes, key=lambda x: x[1])  # Sort by burst time\n",
    "    return fcfs(processes)\n",
    "\n",
    "def round_robin(processes, quantum):\n",
    "    waiting_times = [0] * len(processes)\n",
    "    remaining_times = [burst for _, burst in processes]\n",
    "    current_time = 0\n",
    "    done = False\n",
    "\n",
    "    while not done:\n",
    "        done = True\n",
    "        for i in range(len(processes)):\n",
    "            if remaining_times[i] > 0:\n",
    "                done = False\n",
    "                if remaining_times[i] > quantum:\n",
    "                    current_time += quantum\n",
    "                    remaining_times[i] -= quantum\n",
    "                else:\n",
    "                    current_time += remaining_times[i]\n",
    "                    waiting_times[i] = current_time - processes[i][1]\n",
    "                    remaining_times[i] = 0\n",
    "\n",
    "    turnaround_times = [wt + processes[i][1] for i, wt in enumerate(waiting_times)]\n",
    "    return turnaround_times\n",
    "\n",
    "# Benchmarking\n",
    "def benchmark_scheduling(strategy, processes, quantum=0):\n",
    "    start_time = time.time()\n",
    "    if strategy.__name__ == \"round_robin\":\n",
    "        turnaround_times = strategy(processes, quantum)\n",
    "    else:\n",
    "        turnaround_times = strategy(processes)\n",
    "    end_time = time.time()\n",
    "    return end_time - start_time, turnaround_times\n",
    "\n",
    "processes = [(0, 10), (1, 5), (2, 8)]  # (Arrival time, Burst time)\n",
    "quantum = 2\n",
    "\n",
    "strategies = [fcfs, sjn, round_robin]\n",
    "for strategy in strategies:\n",
    "    exec_time, turnaround_times = benchmark_scheduling(strategy, processes, quantum)\n",
    "    print(f\"{strategy.__name__}:\")\n",
    "    print(f\"  Execution Time: {exec_time:.6f} seconds\")\n",
    "    print(f\"  Turnaround Times: {turnaround_times}\")\n"
   ]
  },
  {
   "cell_type": "code",
   "execution_count": null,
   "metadata": {},
   "outputs": [],
   "source": []
  }
 ],
 "metadata": {
  "kernelspec": {
   "display_name": "Python 3",
   "language": "python",
   "name": "python3"
  },
  "language_info": {
   "codemirror_mode": {
    "name": "ipython",
    "version": 3
   },
   "file_extension": ".py",
   "mimetype": "text/x-python",
   "name": "python",
   "nbconvert_exporter": "python",
   "pygments_lexer": "ipython3",
   "version": "3.8.5"
  }
 },
 "nbformat": 4,
 "nbformat_minor": 4
}
